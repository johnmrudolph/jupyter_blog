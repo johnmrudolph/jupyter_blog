{
 "cells": [
  {
   "cell_type": "code",
   "execution_count": 3,
   "metadata": {
    "collapsed": false
   },
   "outputs": [],
   "source": [
    "import sys\n",
    "sys.path.insert(0, '/home/johnr_000/jupyter_blog/jupyter_blog/scripts')\n",
    "import eia_model as em\n",
    "from datetime import datetime"
   ]
  },
  {
   "cell_type": "code",
   "execution_count": 6,
   "metadata": {
    "collapsed": false
   },
   "outputs": [],
   "source": [
    "class GetSeriesRange(em.GetSeries):\n",
    "    '''\n",
    "    Performs a call to the EIA API based on date range and captures the response\n",
    "    valid kwargs:\n",
    "        :param api_key: an valid API key provided by EIA\n",
    "        :param series: a valid EIA series ID\n",
    "        :param start: a start date in '%Y-%m-%d %H:%M:%S' fromat\n",
    "        :param end: a end date in '%Y-%m-%d %H:%M:%S' fromat\n",
    "        :freq: a valid frequency ('A' : annual, 'M': monthly, 'W': weekly, \n",
    "            'D': daily, 'H': hourly)\n",
    "    '''\n",
    "    \n",
    "    def create_parms(self):\n",
    "        '''\n",
    "        Convert kwargs into a list to pass into api call\n",
    "        '''\n",
    "        try:\n",
    "            kwargs_list = [['api_key', self.kwargs['api_key']]]\n",
    "            kwargs_list.append(['series_id', self.kwargs['series_id']])\n",
    "            kwargs_list.append(['start'], self.format_date(self.kwargs['start']))\n",
    "            kwargs_list.append(['end'], self.format_date(self.kwargs['end']))\n",
    "        except KeyError:\n",
    "            pass\n",
    "        return kwargs_list\n",
    "    \n",
    "    def format_date(freq, date):\n",
    "        \"\"\"formats input dates to correct\"\"\"\n",
    "        date = datetime.strptime(date, '%Y-%m-%d %H:%M:%S')\n",
    "        freq_dict = {'A': '%Y', 'M': '%Y%m', 'W': '%Y%m%d',\n",
    "                     'D': '%Y%m%d', 'H': '%Y%m%dT%HZ'}\n",
    "        formatted_date = datetime.strftime(date, freq_dict[freq])\n",
    "        return formatted_date"
   ]
  },
  {
   "cell_type": "code",
   "execution_count": 7,
   "metadata": {
    "collapsed": false
   },
   "outputs": [],
   "source": [
    "test = GetSeriesRange(api_key=em.eia_api, series_id=em.sid, start=em.start1, \n",
    "                      end=em.end1, freq=em.freq1)"
   ]
  },
  {
   "cell_type": "code",
   "execution_count": 9,
   "metadata": {
    "collapsed": true
   },
   "outputs": [],
   "source": [
    "#variables to specify date range and frequency\n",
    "api_key = em.eia_api\n",
    "start = '2016-08-11 01:00:00'\n",
    "end = '2016-08-11 23:00:00'\n",
    "freq = 'H'\n",
    "# create list of series used for dictionary keys\n",
    "keys = ['EBA.BPAT-ALL.D.H', 'EBA.PACE-ALL.D.H ', 'EBA.PACW-ALL.D.H', \n",
    "        'EBA.PGE-ALL.D.H ', 'EBA.PSEI-ALL.D.', 'EBA.SCL-ALL.D.H ']\n",
    "# create dict of GetSeriesRange objects from series list\n",
    "series_dict = {key: GetSeriesRange(api_key, key, start, end, freq) for key in keys}"
   ]
  },
  {
   "cell_type": "code",
   "execution_count": 10,
   "metadata": {
    "collapsed": false
   },
   "outputs": [
    {
     "data": {
      "text/plain": [
       "{'EBA.BPAT-ALL.D.H': None,\n",
       " 'EBA.PACE-ALL.D.H ': None,\n",
       " 'EBA.PACW-ALL.D.H': None,\n",
       " 'EBA.PGE-ALL.D.H ': None,\n",
       " 'EBA.PSEI-ALL.D.': None,\n",
       " 'EBA.SCL-ALL.D.H ': None}"
      ]
     },
     "execution_count": 10,
     "metadata": {},
     "output_type": "execute_result"
    }
   ],
   "source": [
    "series_dict"
   ]
  },
  {
   "cell_type": "code",
   "execution_count": null,
   "metadata": {
    "collapsed": true
   },
   "outputs": [],
   "source": []
  }
 ],
 "metadata": {
  "kernelspec": {
   "display_name": "Python 3",
   "language": "python",
   "name": "python3"
  },
  "language_info": {
   "codemirror_mode": {
    "name": "ipython",
    "version": 3
   },
   "file_extension": ".py",
   "mimetype": "text/x-python",
   "name": "python",
   "nbconvert_exporter": "python",
   "pygments_lexer": "ipython3",
   "version": "3.5.2"
  }
 },
 "nbformat": 4,
 "nbformat_minor": 1
}
