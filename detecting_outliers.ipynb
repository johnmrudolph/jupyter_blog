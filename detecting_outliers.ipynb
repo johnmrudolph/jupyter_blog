{
 "cells": [
  {
   "cell_type": "code",
   "execution_count": 30,
   "metadata": {
    "collapsed": false
   },
   "outputs": [],
   "source": [
    "import sys\n",
    "sys.path.insert(0, '/home/johnr_000/jupyter_blog/jupyter_blog/scripts')\n",
    "import eia_model as em\n",
    "import pandas as pd\n",
    "import numpy as np\n",
    "from scipy import stats\n",
    "import matplotlib.pyplot as plt\n",
    "from sklearn.ensemble import IsolationForest\n",
    "from sklearn.model_selection import train_test_split\n",
    "from datetime import datetime"
   ]
  },
  {
   "cell_type": "code",
   "execution_count": 19,
   "metadata": {
    "collapsed": false
   },
   "outputs": [],
   "source": [
    "#variables to specify date range and frequency\n",
    "api_key = em.eia_api\n",
    "start = '2015-12-01 01:00:00'\n",
    "end = '2016-01-31 23:00:00'\n",
    "freq = 'H'\n",
    "# create list of series used for dictionary keys\n",
    "keys = ['EBA.BPAT-ALL.D.H', 'EBA.PACE-ALL.D.H', 'EBA.PACW-ALL.D.H', \n",
    "        'EBA.PGE-ALL.D.H', 'EBA.PSEI-ALL.D.H', 'EBA.SCL-ALL.D.H']\n",
    "# create dict of GetSeriesRange objects from series list\n",
    "series_dict = {key: em.GetSeries(api_key=api_key, series_id=key, \n",
    "                                   start=start, end=end, freq=freq) for key in keys}"
   ]
  },
  {
   "cell_type": "code",
   "execution_count": 20,
   "metadata": {
    "collapsed": false
   },
   "outputs": [
    {
     "name": "stdout",
     "output_type": "stream",
     "text": [
      "Demand for PacifiCorp West (PACW), Hourly: EBA.PACW-ALL.D.H\n",
      "Demand for Seattle City Light (SCL), Hourly: EBA.SCL-ALL.D.H\n",
      "Demand for Portland General Electric Company (PGE), Hourly: EBA.PGE-ALL.D.H\n",
      "Demand for Puget Sound Energy, Inc. (PSEI), Hourly: EBA.PSEI-ALL.D.H\n",
      "Demand for Bonneville Power Administration (BPAT), Hourly: EBA.BPAT-ALL.D.H\n",
      "Demand for PacifiCorp East (PACE), Hourly: EBA.PACE-ALL.D.H\n"
     ]
    }
   ],
   "source": [
    "# loop over dictionary and print out full name of each series\n",
    "for key in series_dict:\n",
    "    print('{}: {}'.format(series_dict[key].data.series[0]['name'],key))"
   ]
  },
  {
   "cell_type": "code",
   "execution_count": 21,
   "metadata": {
    "collapsed": false
   },
   "outputs": [],
   "source": [
    "# all the dataframes have the same date range so we can concatenate in a loop\n",
    "concat_df = pd.concat([series_dict[key].data.df for key in series_dict], axis=1)\n",
    "# and output as a pickle file - I'm doing this to avoid calling the EIA API as I develop\n",
    "concat_df.to_pickle('data/nw_load_df.pkl')\n",
    "# concat_df = pd.read_pickle('data/new_load_df.pkl')"
   ]
  },
  {
   "cell_type": "code",
   "execution_count": 12,
   "metadata": {
    "collapsed": false
   },
   "outputs": [],
   "source": [
    "concat_df = pd.read_pickle('/home/johnr_000/jupyter_blog/jupyter_blog/data/nw_load_df.pkl')"
   ]
  },
  {
   "cell_type": "code",
   "execution_count": 23,
   "metadata": {
    "collapsed": false
   },
   "outputs": [
    {
     "name": "stderr",
     "output_type": "stream",
     "text": [
      "/home/johnr_000/venv_python3/lib/python3.5/site-packages/numpy/lib/function_base.py:3834: RuntimeWarning: Invalid value encountered in percentile\n",
      "  RuntimeWarning)\n"
     ]
    },
    {
     "data": {
      "text/html": [
       "<div>\n",
       "<table border=\"1\" class=\"dataframe\">\n",
       "  <thead>\n",
       "    <tr style=\"text-align: right;\">\n",
       "      <th></th>\n",
       "      <th>EBA.PACW-ALL.D.H</th>\n",
       "      <th>EBA.SCL-ALL.D.H</th>\n",
       "      <th>EBA.PGE-ALL.D.H</th>\n",
       "      <th>EBA.PSEI-ALL.D.H</th>\n",
       "      <th>EBA.BPAT-ALL.D.H</th>\n",
       "      <th>EBA.PACE-ALL.D.H</th>\n",
       "    </tr>\n",
       "  </thead>\n",
       "  <tbody>\n",
       "    <tr>\n",
       "      <th>count</th>\n",
       "      <td>1.487000e+03</td>\n",
       "      <td>1487.000000</td>\n",
       "      <td>1487.000000</td>\n",
       "      <td>1482.000000</td>\n",
       "      <td>1487.000000</td>\n",
       "      <td>1.487000e+03</td>\n",
       "    </tr>\n",
       "    <tr>\n",
       "      <th>mean</th>\n",
       "      <td>4.451198e+03</td>\n",
       "      <td>1282.258911</td>\n",
       "      <td>2579.921991</td>\n",
       "      <td>3946.066127</td>\n",
       "      <td>7059.477471</td>\n",
       "      <td>-2.470617e+04</td>\n",
       "    </tr>\n",
       "    <tr>\n",
       "      <th>std</th>\n",
       "      <td>6.558528e+04</td>\n",
       "      <td>177.394473</td>\n",
       "      <td>385.764476</td>\n",
       "      <td>554.268601</td>\n",
       "      <td>833.190306</td>\n",
       "      <td>8.950455e+05</td>\n",
       "    </tr>\n",
       "    <tr>\n",
       "      <th>min</th>\n",
       "      <td>-6.785000e+03</td>\n",
       "      <td>868.000000</td>\n",
       "      <td>1730.000000</td>\n",
       "      <td>2292.000000</td>\n",
       "      <td>5006.000000</td>\n",
       "      <td>-3.199017e+07</td>\n",
       "    </tr>\n",
       "    <tr>\n",
       "      <th>25%</th>\n",
       "      <td>2.393500e+03</td>\n",
       "      <td>1128.500000</td>\n",
       "      <td>2272.000000</td>\n",
       "      <td>NaN</td>\n",
       "      <td>6451.500000</td>\n",
       "      <td>5.169000e+03</td>\n",
       "    </tr>\n",
       "    <tr>\n",
       "      <th>50%</th>\n",
       "      <td>2.709000e+03</td>\n",
       "      <td>1324.000000</td>\n",
       "      <td>2646.000000</td>\n",
       "      <td>NaN</td>\n",
       "      <td>7109.000000</td>\n",
       "      <td>5.508000e+03</td>\n",
       "    </tr>\n",
       "    <tr>\n",
       "      <th>75%</th>\n",
       "      <td>2.941500e+03</td>\n",
       "      <td>1416.000000</td>\n",
       "      <td>2872.500000</td>\n",
       "      <td>NaN</td>\n",
       "      <td>7637.500000</td>\n",
       "      <td>5.822500e+03</td>\n",
       "    </tr>\n",
       "    <tr>\n",
       "      <th>max</th>\n",
       "      <td>2.530003e+06</td>\n",
       "      <td>1654.000000</td>\n",
       "      <td>3472.000000</td>\n",
       "      <td>5088.000000</td>\n",
       "      <td>9365.000000</td>\n",
       "      <td>5.966800e+04</td>\n",
       "    </tr>\n",
       "  </tbody>\n",
       "</table>\n",
       "</div>"
      ],
      "text/plain": [
       "       EBA.PACW-ALL.D.H  EBA.SCL-ALL.D.H  EBA.PGE-ALL.D.H  EBA.PSEI-ALL.D.H  \\\n",
       "count      1.487000e+03      1487.000000      1487.000000       1482.000000   \n",
       "mean       4.451198e+03      1282.258911      2579.921991       3946.066127   \n",
       "std        6.558528e+04       177.394473       385.764476        554.268601   \n",
       "min       -6.785000e+03       868.000000      1730.000000       2292.000000   \n",
       "25%        2.393500e+03      1128.500000      2272.000000               NaN   \n",
       "50%        2.709000e+03      1324.000000      2646.000000               NaN   \n",
       "75%        2.941500e+03      1416.000000      2872.500000               NaN   \n",
       "max        2.530003e+06      1654.000000      3472.000000       5088.000000   \n",
       "\n",
       "       EBA.BPAT-ALL.D.H  EBA.PACE-ALL.D.H  \n",
       "count       1487.000000      1.487000e+03  \n",
       "mean        7059.477471     -2.470617e+04  \n",
       "std          833.190306      8.950455e+05  \n",
       "min         5006.000000     -3.199017e+07  \n",
       "25%         6451.500000      5.169000e+03  \n",
       "50%         7109.000000      5.508000e+03  \n",
       "75%         7637.500000      5.822500e+03  \n",
       "max         9365.000000      5.966800e+04  "
      ]
     },
     "execution_count": 23,
     "metadata": {},
     "output_type": "execute_result"
    }
   ],
   "source": [
    "concat_df.describe()"
   ]
  },
  {
   "cell_type": "code",
   "execution_count": 104,
   "metadata": {
    "collapsed": false
   },
   "outputs": [
    {
     "name": "stdout",
     "output_type": "stream",
     "text": [
      "Length of training dataframe: 1189 and testing dataframe 298\n"
     ]
    }
   ],
   "source": [
    "train, test = train_test_split(concat_df, test_size = 0.2)\n",
    "print('Length of training dataframe: {} and testing dataframe {}'.format(len(train), len(test)))"
   ]
  },
  {
   "cell_type": "code",
   "execution_count": 107,
   "metadata": {
    "collapsed": false
   },
   "outputs": [
    {
     "ename": "ValueError",
     "evalue": "all the input arrays must have same number of dimensions",
     "output_type": "error",
     "traceback": [
      "\u001b[0;31m---------------------------------------------------------------------------\u001b[0m",
      "\u001b[0;31mValueError\u001b[0m                                Traceback (most recent call last)",
      "\u001b[0;32m<ipython-input-107-28d07a592a5a>\u001b[0m in \u001b[0;36m<module>\u001b[0;34m()\u001b[0m\n\u001b[1;32m      5\u001b[0m \u001b[0mtest_x\u001b[0m \u001b[0;34m=\u001b[0m \u001b[0mtest\u001b[0m\u001b[0;34m.\u001b[0m\u001b[0mindex\u001b[0m\u001b[0;34m.\u001b[0m\u001b[0mto_datetime\u001b[0m\u001b[0;34m(\u001b[0m\u001b[0;34m)\u001b[0m\u001b[0;34m.\u001b[0m\u001b[0mhour\u001b[0m\u001b[0;34m\u001b[0m\u001b[0m\n\u001b[1;32m      6\u001b[0m \u001b[0mtest_y\u001b[0m \u001b[0;34m=\u001b[0m  \u001b[0mtest\u001b[0m\u001b[0;34m[\u001b[0m\u001b[0;34m'EBA.SCL-ALL.D.H'\u001b[0m\u001b[0;34m]\u001b[0m\u001b[0;34m.\u001b[0m\u001b[0mvalues\u001b[0m\u001b[0;34m\u001b[0m\u001b[0m\n\u001b[0;32m----> 7\u001b[0;31m \u001b[0mclf\u001b[0m\u001b[0;34m.\u001b[0m\u001b[0mfit\u001b[0m\u001b[0;34m(\u001b[0m\u001b[0mnp\u001b[0m\u001b[0;34m.\u001b[0m\u001b[0mr_\u001b[0m\u001b[0;34m[\u001b[0m\u001b[0mtrain_x\u001b[0m\u001b[0;34m.\u001b[0m\u001b[0mreshape\u001b[0m\u001b[0;34m(\u001b[0m\u001b[0mlen\u001b[0m\u001b[0;34m(\u001b[0m\u001b[0mtrain_x\u001b[0m\u001b[0;34m)\u001b[0m\u001b[0;34m,\u001b[0m \u001b[0;36m1\u001b[0m\u001b[0;34m)\u001b[0m\u001b[0;34m,\u001b[0m \u001b[0mtrain_y\u001b[0m\u001b[0;34m]\u001b[0m\u001b[0;34m)\u001b[0m\u001b[0;34m\u001b[0m\u001b[0m\n\u001b[0m\u001b[1;32m      8\u001b[0m \u001b[0my_pred\u001b[0m \u001b[0;34m=\u001b[0m \u001b[0mclf\u001b[0m\u001b[0;34m.\u001b[0m\u001b[0mpredict\u001b[0m\u001b[0;34m(\u001b[0m\u001b[0mnp\u001b[0m\u001b[0;34m.\u001b[0m\u001b[0mr_\u001b[0m\u001b[0;34m[\u001b[0m\u001b[0mtest_x\u001b[0m\u001b[0;34m.\u001b[0m\u001b[0mreshape\u001b[0m\u001b[0;34m(\u001b[0m\u001b[0mlen\u001b[0m\u001b[0;34m(\u001b[0m\u001b[0mtest_x\u001b[0m\u001b[0;34m)\u001b[0m\u001b[0;34m,\u001b[0m \u001b[0;36m1\u001b[0m\u001b[0;34m)\u001b[0m\u001b[0;34m,\u001b[0m \u001b[0mtest_y\u001b[0m\u001b[0;34m]\u001b[0m\u001b[0;34m)\u001b[0m\u001b[0;34m\u001b[0m\u001b[0m\n",
      "\u001b[0;32m/home/johnr_000/venv_python3/lib/python3.5/site-packages/numpy/lib/index_tricks.py\u001b[0m in \u001b[0;36m__getitem__\u001b[0;34m(self, key)\u001b[0m\n\u001b[1;32m    336\u001b[0m                 \u001b[0mobjs\u001b[0m\u001b[0;34m[\u001b[0m\u001b[0mk\u001b[0m\u001b[0;34m]\u001b[0m \u001b[0;34m=\u001b[0m \u001b[0mobjs\u001b[0m\u001b[0;34m[\u001b[0m\u001b[0mk\u001b[0m\u001b[0;34m]\u001b[0m\u001b[0;34m.\u001b[0m\u001b[0mastype\u001b[0m\u001b[0;34m(\u001b[0m\u001b[0mfinal_dtype\u001b[0m\u001b[0;34m)\u001b[0m\u001b[0;34m\u001b[0m\u001b[0m\n\u001b[1;32m    337\u001b[0m \u001b[0;34m\u001b[0m\u001b[0m\n\u001b[0;32m--> 338\u001b[0;31m         \u001b[0mres\u001b[0m \u001b[0;34m=\u001b[0m \u001b[0m_nx\u001b[0m\u001b[0;34m.\u001b[0m\u001b[0mconcatenate\u001b[0m\u001b[0;34m(\u001b[0m\u001b[0mtuple\u001b[0m\u001b[0;34m(\u001b[0m\u001b[0mobjs\u001b[0m\u001b[0;34m)\u001b[0m\u001b[0;34m,\u001b[0m \u001b[0maxis\u001b[0m\u001b[0;34m=\u001b[0m\u001b[0mself\u001b[0m\u001b[0;34m.\u001b[0m\u001b[0maxis\u001b[0m\u001b[0;34m)\u001b[0m\u001b[0;34m\u001b[0m\u001b[0m\n\u001b[0m\u001b[1;32m    339\u001b[0m         \u001b[0;32mreturn\u001b[0m \u001b[0mself\u001b[0m\u001b[0;34m.\u001b[0m\u001b[0m_retval\u001b[0m\u001b[0;34m(\u001b[0m\u001b[0mres\u001b[0m\u001b[0;34m)\u001b[0m\u001b[0;34m\u001b[0m\u001b[0m\n\u001b[1;32m    340\u001b[0m \u001b[0;34m\u001b[0m\u001b[0m\n",
      "\u001b[0;31mValueError\u001b[0m: all the input arrays must have same number of dimensions"
     ]
    }
   ],
   "source": [
    "rng = np.random.RandomState(42)\n",
    "clf = IsolationForest(max_samples=100, random_state=rng)\n",
    "train_x = train.index.to_datetime().hour\n",
    "train_y =  train['EBA.SCL-ALL.D.H'].values\n",
    "test_x = test.index.to_datetime().hour\n",
    "test_y =  test['EBA.SCL-ALL.D.H'].values\n",
    "clf.fit(np.r_[train_x.reshape(len(train_x), 1), train_y])\n",
    "y_pred = clf.predict(np.r_[test_x.reshape(len(test_x), 1), test_y])"
   ]
  },
  {
   "cell_type": "code",
   "execution_count": 108,
   "metadata": {
    "collapsed": false
   },
   "outputs": [],
   "source": [
    "# Generate train data\n",
    "X = 0.3 * rng.randn(100, 2)\n",
    "X_train = np.r_[X + 2, X - 2]"
   ]
  },
  {
   "cell_type": "code",
   "execution_count": 136,
   "metadata": {
    "collapsed": false
   },
   "outputs": [
    {
     "data": {
      "text/plain": [
       "(1189, 2)"
      ]
     },
     "execution_count": 136,
     "metadata": {},
     "output_type": "execute_result"
    }
   ],
   "source": [
    "x1 = train.index.to_datetime().hour\n",
    "y1 = train['EBA.SCL-ALL.D.H'].values\n",
    "test_ar = np.swapaxes(np.array([x1, y1]), 0, 1)\n",
    "test_ar.shape"
   ]
  },
  {
   "cell_type": "code",
   "execution_count": 137,
   "metadata": {
    "collapsed": false
   },
   "outputs": [
    {
     "data": {
      "text/plain": [
       "(200, 2)"
      ]
     },
     "execution_count": 137,
     "metadata": {},
     "output_type": "execute_result"
    }
   ],
   "source": [
    "X_train.shape"
   ]
  },
  {
   "cell_type": "code",
   "execution_count": null,
   "metadata": {
    "collapsed": true
   },
   "outputs": [],
   "source": []
  }
 ],
 "metadata": {
  "kernelspec": {
   "display_name": "Python 3",
   "language": "python",
   "name": "python3"
  },
  "language_info": {
   "codemirror_mode": {
    "name": "ipython",
    "version": 3
   },
   "file_extension": ".py",
   "mimetype": "text/x-python",
   "name": "python",
   "nbconvert_exporter": "python",
   "pygments_lexer": "ipython3",
   "version": "3.5.2"
  }
 },
 "nbformat": 4,
 "nbformat_minor": 1
}
