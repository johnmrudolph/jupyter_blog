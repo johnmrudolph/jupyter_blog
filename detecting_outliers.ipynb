{
 "cells": [
  {
   "cell_type": "code",
   "execution_count": 5,
   "metadata": {
    "collapsed": false
   },
   "outputs": [],
   "source": [
    "import sys\n",
    "sys.path.insert(0, '/home/johnr_000/jupyter_blog/jupyter_blog/scripts')\n",
    "import eia_model as em\n",
    "import pandas as pd\n",
    "import numpy as np\n",
    "from scipy import stats\n",
    "import matplotlib.pyplot as plt\n",
    "from sklearn.ensemble import IsolationForest\n",
    "from sklearn.model_selection import train_test_split\n",
    "from datetime import datetime"
   ]
  },
  {
   "cell_type": "code",
   "execution_count": 6,
   "metadata": {
    "collapsed": false
   },
   "outputs": [],
   "source": [
    "#variables to specify date range and frequency\n",
    "api_key = em.eia_api\n",
    "start = '2015-12-01 01:00:00'\n",
    "end = '2016-01-31 23:00:00'\n",
    "freq = 'H'\n",
    "# create list of series used for dictionary keys\n",
    "keys = ['EBA.BPAT-ALL.D.H', 'EBA.PACE-ALL.D.H', 'EBA.PACW-ALL.D.H', \n",
    "        'EBA.PGE-ALL.D.H', 'EBA.PSEI-ALL.D.H', 'EBA.SCL-ALL.D.H']\n",
    "# create dict of GetSeriesRange objects from series list\n",
    "series_dict = {key: em.GetSeries(api_key=api_key, series_id=key, \n",
    "                                   start=start, end=end, freq=freq) for key in keys}"
   ]
  },
  {
   "cell_type": "code",
   "execution_count": 20,
   "metadata": {
    "collapsed": false
   },
   "outputs": [
    {
     "name": "stdout",
     "output_type": "stream",
     "text": [
      "Demand for PacifiCorp West (PACW), Hourly: EBA.PACW-ALL.D.H\n",
      "Demand for Seattle City Light (SCL), Hourly: EBA.SCL-ALL.D.H\n",
      "Demand for Portland General Electric Company (PGE), Hourly: EBA.PGE-ALL.D.H\n",
      "Demand for Puget Sound Energy, Inc. (PSEI), Hourly: EBA.PSEI-ALL.D.H\n",
      "Demand for Bonneville Power Administration (BPAT), Hourly: EBA.BPAT-ALL.D.H\n",
      "Demand for PacifiCorp East (PACE), Hourly: EBA.PACE-ALL.D.H\n"
     ]
    }
   ],
   "source": [
    "# loop over dictionary and print out full name of each series\n",
    "for key in series_dict:\n",
    "    print('{}: {}'.format(series_dict[key].data.series[0]['name'],key))"
   ]
  },
  {
   "cell_type": "code",
   "execution_count": 21,
   "metadata": {
    "collapsed": false
   },
   "outputs": [],
   "source": [
    "# all the dataframes have the same date range so we can concatenate in a loop\n",
    "concat_df = pd.concat([series_dict[key].data.df for key in series_dict], axis=1)\n",
    "# and output as a pickle file - I'm doing this to avoid calling the EIA API as I develop\n",
    "concat_df.to_pickle('data/nw_load_df.pkl')\n",
    "# concat_df = pd.read_pickle('data/new_load_df.pkl')"
   ]
  },
  {
   "cell_type": "code",
   "execution_count": 11,
   "metadata": {
    "collapsed": false
   },
   "outputs": [],
   "source": [
    "concat_df = pd.read_pickle('/home/johnr_000/jupyter_blog/jupyter_blog/data/nw_load_df.pkl')"
   ]
  },
  {
   "cell_type": "code",
   "execution_count": 15,
   "metadata": {
    "collapsed": false
   },
   "outputs": [],
   "source": [
    "concat_df['HOUR'] = concat_df.index.to_datetime().hour"
   ]
  },
  {
   "cell_type": "code",
   "execution_count": 21,
   "metadata": {
    "collapsed": false
   },
   "outputs": [],
   "source": [
    "def predict_outliers(series_id, train_df):\n",
    "    '''\n",
    "    Creates a dataframe with outlier prediction (boolean) and decision function\n",
    "    :param series_id: a valid eia series with eia dataframe object\n",
    "    :param train_df: a dataframe with the training series(x and y values)\n",
    "    '''\n",
    "    training_data = concat_df[['HOUR', series_id]].values\n",
    "    clf = IsolationForest(contamination=.01)\n",
    "    clf.fit(training_data)\n",
    "    opred = clf.predict(training_data)\n",
    "    dfunc = clf.decision_function(training_data)\n",
    "    l1 = '{}{}'.format(series_id, '_opred')\n",
    "    l2 = '{}{}'.format(series_id, 'dfunc')\n",
    "    return pd.DataFrame(np.column_stack((opred, dfunc)), index=train_df.index.values, columns=[l1, l2])"
   ]
  },
  {
   "cell_type": "code",
   "execution_count": 22,
   "metadata": {
    "collapsed": false
   },
   "outputs": [],
   "source": [
    "test = predict_outliers('EBA.PACW-ALL.D.H', concat_df)"
   ]
  },
  {
   "cell_type": "code",
   "execution_count": 24,
   "metadata": {
    "collapsed": false
   },
   "outputs": [
    {
     "data": {
      "text/html": [
       "<div>\n",
       "<table border=\"1\" class=\"dataframe\">\n",
       "  <thead>\n",
       "    <tr style=\"text-align: right;\">\n",
       "      <th></th>\n",
       "      <th>EBA.PACW-ALL.D.H_opred</th>\n",
       "      <th>EBA.PACW-ALL.D.Hdfunc</th>\n",
       "    </tr>\n",
       "  </thead>\n",
       "  <tbody>\n",
       "    <tr>\n",
       "      <th>2015-12-01 02:00:00</th>\n",
       "      <td>-1.0</td>\n",
       "      <td>-0.086333</td>\n",
       "    </tr>\n",
       "    <tr>\n",
       "      <th>2015-12-01 03:00:00</th>\n",
       "      <td>-1.0</td>\n",
       "      <td>-0.075916</td>\n",
       "    </tr>\n",
       "    <tr>\n",
       "      <th>2015-12-01 16:00:00</th>\n",
       "      <td>-1.0</td>\n",
       "      <td>-0.078645</td>\n",
       "    </tr>\n",
       "    <tr>\n",
       "      <th>2015-12-01 17:00:00</th>\n",
       "      <td>-1.0</td>\n",
       "      <td>-0.075124</td>\n",
       "    </tr>\n",
       "    <tr>\n",
       "      <th>2015-12-08 04:00:00</th>\n",
       "      <td>-1.0</td>\n",
       "      <td>-0.187347</td>\n",
       "    </tr>\n",
       "    <tr>\n",
       "      <th>2015-12-08 17:00:00</th>\n",
       "      <td>-1.0</td>\n",
       "      <td>-0.129624</td>\n",
       "    </tr>\n",
       "    <tr>\n",
       "      <th>2015-12-09 02:00:00</th>\n",
       "      <td>-1.0</td>\n",
       "      <td>-0.179766</td>\n",
       "    </tr>\n",
       "    <tr>\n",
       "      <th>2015-12-31 17:00:00</th>\n",
       "      <td>-1.0</td>\n",
       "      <td>-0.079289</td>\n",
       "    </tr>\n",
       "    <tr>\n",
       "      <th>2016-01-02 18:00:00</th>\n",
       "      <td>-1.0</td>\n",
       "      <td>-0.077722</td>\n",
       "    </tr>\n",
       "    <tr>\n",
       "      <th>2016-01-05 23:00:00</th>\n",
       "      <td>-1.0</td>\n",
       "      <td>-0.175516</td>\n",
       "    </tr>\n",
       "    <tr>\n",
       "      <th>2016-01-06 00:00:00</th>\n",
       "      <td>-1.0</td>\n",
       "      <td>-0.164338</td>\n",
       "    </tr>\n",
       "    <tr>\n",
       "      <th>2016-01-11 00:00:00</th>\n",
       "      <td>-1.0</td>\n",
       "      <td>-0.240356</td>\n",
       "    </tr>\n",
       "    <tr>\n",
       "      <th>2016-01-12 04:00:00</th>\n",
       "      <td>-1.0</td>\n",
       "      <td>-0.146410</td>\n",
       "    </tr>\n",
       "    <tr>\n",
       "      <th>2016-01-12 05:00:00</th>\n",
       "      <td>-1.0</td>\n",
       "      <td>-0.141118</td>\n",
       "    </tr>\n",
       "    <tr>\n",
       "      <th>2016-01-12 06:00:00</th>\n",
       "      <td>-1.0</td>\n",
       "      <td>-0.151804</td>\n",
       "    </tr>\n",
       "  </tbody>\n",
       "</table>\n",
       "</div>"
      ],
      "text/plain": [
       "                     EBA.PACW-ALL.D.H_opred  EBA.PACW-ALL.D.Hdfunc\n",
       "2015-12-01 02:00:00                    -1.0              -0.086333\n",
       "2015-12-01 03:00:00                    -1.0              -0.075916\n",
       "2015-12-01 16:00:00                    -1.0              -0.078645\n",
       "2015-12-01 17:00:00                    -1.0              -0.075124\n",
       "2015-12-08 04:00:00                    -1.0              -0.187347\n",
       "2015-12-08 17:00:00                    -1.0              -0.129624\n",
       "2015-12-09 02:00:00                    -1.0              -0.179766\n",
       "2015-12-31 17:00:00                    -1.0              -0.079289\n",
       "2016-01-02 18:00:00                    -1.0              -0.077722\n",
       "2016-01-05 23:00:00                    -1.0              -0.175516\n",
       "2016-01-06 00:00:00                    -1.0              -0.164338\n",
       "2016-01-11 00:00:00                    -1.0              -0.240356\n",
       "2016-01-12 04:00:00                    -1.0              -0.146410\n",
       "2016-01-12 05:00:00                    -1.0              -0.141118\n",
       "2016-01-12 06:00:00                    -1.0              -0.151804"
      ]
     },
     "execution_count": 24,
     "metadata": {},
     "output_type": "execute_result"
    }
   ],
   "source": [
    "test[test['EBA.PACW-ALL.D.H_opred']== -1]"
   ]
  },
  {
   "cell_type": "code",
   "execution_count": 49,
   "metadata": {
    "collapsed": false
   },
   "outputs": [
    {
     "data": {
      "image/png": "[encoded data removed]",
      "text/plain": [
       "<matplotlib.figure.Figure at 0x7f172cfa3ba8>"
      ]
     },
     "metadata": {},
     "output_type": "display_data"
    }
   ],
   "source": [
    "plt.scatter(concat_df['HOUR'].values, test)\n",
    "plt.show()"
   ]
  },
  {
   "cell_type": "code",
   "execution_count": 50,
   "metadata": {
    "collapsed": false
   },
   "outputs": [],
   "source": [
    "test2 = np.column_stack((concat_df.index.values, concat_df['EBA.PACW-ALL.D.H'].values, test, y_pred_train))\n",
    "test2_df = pd.DataFrame(data=test2)"
   ]
  },
  {
   "cell_type": "code",
   "execution_count": 51,
   "metadata": {
    "collapsed": false
   },
   "outputs": [
    {
     "data": {
      "text/html": [
       "<div>\n",
       "<table border=\"1\" class=\"dataframe\">\n",
       "  <thead>\n",
       "    <tr style=\"text-align: right;\">\n",
       "      <th></th>\n",
       "      <th>0</th>\n",
       "      <th>1</th>\n",
       "      <th>2</th>\n",
       "      <th>3</th>\n",
       "    </tr>\n",
       "  </thead>\n",
       "  <tbody>\n",
       "    <tr>\n",
       "      <th>0</th>\n",
       "      <td>2015-12-01 01:00:00</td>\n",
       "      <td>3353</td>\n",
       "      <td>-0.0715425</td>\n",
       "      <td>-1</td>\n",
       "    </tr>\n",
       "    <tr>\n",
       "      <th>1</th>\n",
       "      <td>2015-12-01 02:00:00</td>\n",
       "      <td>3468</td>\n",
       "      <td>-0.0660252</td>\n",
       "      <td>-1</td>\n",
       "    </tr>\n",
       "    <tr>\n",
       "      <th>15</th>\n",
       "      <td>2015-12-01 16:00:00</td>\n",
       "      <td>3533</td>\n",
       "      <td>-0.0729803</td>\n",
       "      <td>-1</td>\n",
       "    </tr>\n",
       "    <tr>\n",
       "      <th>142</th>\n",
       "      <td>2015-12-06 23:00:00</td>\n",
       "      <td>2337</td>\n",
       "      <td>-0.073346</td>\n",
       "      <td>-1</td>\n",
       "    </tr>\n",
       "    <tr>\n",
       "      <th>171</th>\n",
       "      <td>2015-12-08 04:00:00</td>\n",
       "      <td>68121</td>\n",
       "      <td>-0.158014</td>\n",
       "      <td>-1</td>\n",
       "    </tr>\n",
       "    <tr>\n",
       "      <th>184</th>\n",
       "      <td>2015-12-08 17:00:00</td>\n",
       "      <td>648</td>\n",
       "      <td>-0.113991</td>\n",
       "      <td>-1</td>\n",
       "    </tr>\n",
       "    <tr>\n",
       "      <th>193</th>\n",
       "      <td>2015-12-09 02:00:00</td>\n",
       "      <td>68178</td>\n",
       "      <td>-0.16574</td>\n",
       "      <td>-1</td>\n",
       "    </tr>\n",
       "    <tr>\n",
       "      <th>785</th>\n",
       "      <td>2016-01-02 18:00:00</td>\n",
       "      <td>3432</td>\n",
       "      <td>-0.0667889</td>\n",
       "      <td>-1</td>\n",
       "    </tr>\n",
       "    <tr>\n",
       "      <th>862</th>\n",
       "      <td>2016-01-05 23:00:00</td>\n",
       "      <td>-6763</td>\n",
       "      <td>-0.181341</td>\n",
       "      <td>-1</td>\n",
       "    </tr>\n",
       "    <tr>\n",
       "      <th>863</th>\n",
       "      <td>2016-01-06 00:00:00</td>\n",
       "      <td>12633</td>\n",
       "      <td>-0.144949</td>\n",
       "      <td>-1</td>\n",
       "    </tr>\n",
       "    <tr>\n",
       "      <th>983</th>\n",
       "      <td>2016-01-11 00:00:00</td>\n",
       "      <td>2530003</td>\n",
       "      <td>-0.216084</td>\n",
       "      <td>-1</td>\n",
       "    </tr>\n",
       "    <tr>\n",
       "      <th>1011</th>\n",
       "      <td>2016-01-12 04:00:00</td>\n",
       "      <td>-6682</td>\n",
       "      <td>-0.142569</td>\n",
       "      <td>-1</td>\n",
       "    </tr>\n",
       "    <tr>\n",
       "      <th>1012</th>\n",
       "      <td>2016-01-12 05:00:00</td>\n",
       "      <td>-6785</td>\n",
       "      <td>-0.139876</td>\n",
       "      <td>-1</td>\n",
       "    </tr>\n",
       "    <tr>\n",
       "      <th>1013</th>\n",
       "      <td>2016-01-12 06:00:00</td>\n",
       "      <td>12447</td>\n",
       "      <td>-0.105508</td>\n",
       "      <td>-1</td>\n",
       "    </tr>\n",
       "    <tr>\n",
       "      <th>1294</th>\n",
       "      <td>2016-01-23 23:00:00</td>\n",
       "      <td>2370</td>\n",
       "      <td>-0.0666786</td>\n",
       "      <td>-1</td>\n",
       "    </tr>\n",
       "  </tbody>\n",
       "</table>\n",
       "</div>"
      ],
      "text/plain": [
       "                        0        1          2   3\n",
       "0     2015-12-01 01:00:00     3353 -0.0715425  -1\n",
       "1     2015-12-01 02:00:00     3468 -0.0660252  -1\n",
       "15    2015-12-01 16:00:00     3533 -0.0729803  -1\n",
       "142   2015-12-06 23:00:00     2337  -0.073346  -1\n",
       "171   2015-12-08 04:00:00    68121  -0.158014  -1\n",
       "184   2015-12-08 17:00:00      648  -0.113991  -1\n",
       "193   2015-12-09 02:00:00    68178   -0.16574  -1\n",
       "785   2016-01-02 18:00:00     3432 -0.0667889  -1\n",
       "862   2016-01-05 23:00:00    -6763  -0.181341  -1\n",
       "863   2016-01-06 00:00:00    12633  -0.144949  -1\n",
       "983   2016-01-11 00:00:00  2530003  -0.216084  -1\n",
       "1011  2016-01-12 04:00:00    -6682  -0.142569  -1\n",
       "1012  2016-01-12 05:00:00    -6785  -0.139876  -1\n",
       "1013  2016-01-12 06:00:00    12447  -0.105508  -1\n",
       "1294  2016-01-23 23:00:00     2370 -0.0666786  -1"
      ]
     },
     "execution_count": 51,
     "metadata": {},
     "output_type": "execute_result"
    }
   ],
   "source": [
    "test2_df[test2_df[3] == -1]"
   ]
  },
  {
   "cell_type": "code",
   "execution_count": null,
   "metadata": {
    "collapsed": false
   },
   "outputs": [],
   "source": []
  },
  {
   "cell_type": "code",
   "execution_count": null,
   "metadata": {
    "collapsed": true
   },
   "outputs": [],
   "source": []
  }
 ],
 "metadata": {
  "kernelspec": {
   "display_name": "Python 3",
   "language": "python",
   "name": "python3"
  },
  "language_info": {
   "codemirror_mode": {
    "name": "ipython",
    "version": 3
   },
   "file_extension": ".py",
   "mimetype": "text/x-python",
   "name": "python",
   "nbconvert_exporter": "python",
   "pygments_lexer": "ipython3",
   "version": "3.5.2"
  }
 },
 "nbformat": 4,
 "nbformat_minor": 1
}
