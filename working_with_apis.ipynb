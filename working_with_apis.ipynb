{
 "cells": [
  {
   "cell_type": "markdown",
   "metadata": {},
   "source": [
    "![Image of Yaktocat](https://raw.githubusercontent.com/johnmrudolph/jupyter_blog/master/headers/eia_api_header.png)"
   ]
  },
  {
   "cell_type": "markdown",
   "metadata": {},
   "source": [
    "<h2 style=\"color:#003f5b\">My setup & workflow</h2>"
   ]
  },
  {
   "cell_type": "markdown",
   "metadata": {},
   "source": [
    "This is my first post so before I dive into the content I thought it would be a good idea to give a short description of my setup and workflow. I do most of my work in linux (Ubuntu 14.04) and run Python 3.5. Most of my development is done via text editor (Sublime), IPython and command line. If I need to share or demo code then I use Jupyter."
   ]
  },
  {
   "cell_type": "markdown",
   "metadata": {},
   "source": [
    "<h2 style=\"color:#003f5b\">What's an API?</h2>"
   ]
  },
  {
   "cell_type": "markdown",
   "metadata": {},
   "source": [
    "If you already know the answer to this question then you may not find much use in reading the rest of this post BUT if you don't know what I'm talking abou then I suggest you keep reading since APIs can make life much easier for data science types.\n",
    "\n",
    "APIs are important because they allow for ease of communication between applications. If your application needs to interact with another application than an API helps to define the rules of this interaction. Each API will have its own nuances but generally you request information from an API by passing in parameters via a URL. Interacting with an API is a much easier way to grab dating than trying to scrub HTML."
   ]
  },
  {
   "cell_type": "markdown",
   "metadata": {},
   "source": [
    "<h2 style=\"color:#003f5b\">A class to interact with an API</h2>"
   ]
  },
  {
   "cell_type": "markdown",
   "metadata": {},
   "source": [
    "Most public APIs limit the size and number of request that you can make. There are tools that can help ensure that you are a curtious API user. The request-cache package is great for limiting unnecsarry API calls: https://pypi.python.org/pypi/requests-cache. You can also mock up API requests and responses which is helpful during development and unit testing: https://realpython.com/blog/python/testing-third-party-apis-with-mocks/.\n",
    "\n",
    "Before making a request you usually need an API key. Here is a link to the EIA Open Data page where you can obtain an EIA API key: http://www.eia.gov/opendata/register.cfm. We are going to have to import some packages to help us make the request and parse out the information that is returned."
   ]
  },
  {
   "cell_type": "code",
   "execution_count": 1,
   "metadata": {
    "collapsed": true
   },
   "outputs": [],
   "source": [
    "import requests # provides an easy way to send an HTTP/1.1 request and manage the response"
   ]
  },
  {
   "cell_type": "markdown",
   "metadata": {},
   "source": [
    "Let's start by defining a class for our API call. If you're like me and you come from more of a functional programming background then classes may seem a bit foreign. We could use functions as a means to the same end but classes offer a more practical way to keep track of information that we might need later on or we want might to inherit from this class at some point in the future to create a new class which interacts with the API differently."
   ]
  },
  {
   "cell_type": "code",
   "execution_count": 2,
   "metadata": {
    "collapsed": true
   },
   "outputs": [],
   "source": [
    "class GetSeries(object):\n",
    "    '''\n",
    "    A class to call the EIA API and capture the response\n",
    "    '''\n",
    "    \n",
    "    # setting as class variable because same url will be used for all calls\n",
    "    eia_url = 'http://api.eia.gov/series/'\n",
    "    \n",
    "    # (1)\n",
    "    def __init__(self, api_key, series_id):\n",
    "        '''\n",
    "        :param api_key: an valid API key provided by EIA\n",
    "        :param series: a valid EIA series ID\n",
    "        '''\n",
    "        self.api_key = api_key\n",
    "        self.series_id = series_id\n",
    "        self.response = self.get_response()\n",
    "    \n",
    "    # (2)\n",
    "    def get_response(self):\n",
    "        '''\n",
    "         Calls the EIA API and returns response object\n",
    "        '''\n",
    "        api_parms = (\n",
    "            ('api_key', self.api_key),\n",
    "            ('series_id', self.series_id),\n",
    "        )\n",
    "        return requests.get(self.eia_url, params=api_parms)"
   ]
  },
  {
   "cell_type": "markdown",
   "metadata": {},
   "source": [
    "I numbered the 3 main elements of the GetSeries class which are worth explaining:\n",
    "\n",
    "(1) When the class is instantiated 4 attributes are created:\n",
    "    1. api_key: the api_key used to make the request\n",
    "    2. series_id: the data that we want\n",
    "    3. response: a request object returned by the EIA api call\n",
    "    4. json: a converted json object from the response object\n",
    "    \n",
    "(2) The api_key and series_id are packed into a tuple of tuples and then unloaded into a URL and sent to the API using the requests package. The URL is interpreted by the EIA API and the relevent information is returned back as a response object."
   ]
  },
  {
   "cell_type": "markdown",
   "metadata": {},
   "source": [
    "<h2 style=\"color:#003f5b\">What does the API response look like?</h2>"
   ]
  },
  {
   "cell_type": "markdown",
   "metadata": {},
   "source": [
    "The api_key and series_id are required inputs so these need to be defined before the GetSeries class can be instantiated."
   ]
  },
  {
   "cell_type": "code",
   "execution_count": 3,
   "metadata": {
    "collapsed": false
   },
   "outputs": [],
   "source": [
    "# in production you would want to keep the API key somewhere secret\n",
    "api_key = '5F4109570C68FDE20F42C25F5152D879'\n",
    "\n",
    "# a list of valid EIA series can be found here: http://www.eia.gov/opendata/qb.cfm\n",
    "# I'll use \"Natural gas lower 48 weekly\"\n",
    "series_id = 'NG.NW2_EPG0_SWO_R48_BCF.W'\n",
    "\n",
    "# create a new GetSeries object based on the paramters defined above\n",
    "ng_stor = GetSeries(api_key, series_id)"
   ]
  },
  {
   "cell_type": "markdown",
   "metadata": {},
   "source": [
    "Above we created a new instance of the GetSeries class called ng_stor. Lets start by taking a look at some of the information that we can get from the response attribute of the GerSeries class."
   ]
  },
  {
   "cell_type": "code",
   "execution_count": 4,
   "metadata": {
    "collapsed": false
   },
   "outputs": [
    {
     "name": "stdout",
     "output_type": "stream",
     "text": [
      "The API status code is <Response [200]>\n",
      "The URL sent to the API is http://api.eia.gov/series/?api_key=5F4109570C68FDE20F42C25F5152D879&series_id=NG.NW2_EPG0_SWO_R48_BCF.W\n",
      "The API header is {'Content-Language': 'en', 'Content-Encoding': 'gzip', 'Connection': 'keep-alive', 'Server': 'Apache', 'Content-Length': '2248', 'Date': 'Fri, 09 Sep 2016 03:56:16 GMT', 'Vary': 'Accept-Encoding', 'Content-Type': 'application/json', 'Access-Control-Allow-Origin': '*', 'Expires': 'Fri, 09 Sep 2016 03:56:16 GMT', 'Pragma': 'no-cache', 'Cache-Control': 'max-age=0, no-cache, no-store'}\n"
     ]
    }
   ],
   "source": [
    "# if we sent a valid request to the API then we should get a Reponse [200] status code\n",
    "print('The API status code is {}'.format(ng_stor.response))\n",
    "# this is the URL that we sent to the api\n",
    "print('The URL sent to the API is {}'.format(ng_stor.response.url))\n",
    "# this is some information about the response that the API sent to us\n",
    "print('The API header is {}'.format(ng_stor.response.headers))"
   ]
  },
  {
   "cell_type": "markdown",
   "metadata": {},
   "source": [
    "The headers attribute of the response object gives us some helpful information about the API server and the content that was sent. The 'Content-Type\" is json so the Requests library can convert the response to json object directly."
   ]
  },
  {
   "cell_type": "code",
   "execution_count": 5,
   "metadata": {
    "collapsed": true
   },
   "outputs": [],
   "source": [
    "# create a new variable to make it easier to work with the json\n",
    "ng_stor_json = ng_stor.response.json()"
   ]
  },
  {
   "cell_type": "markdown",
   "metadata": {},
   "source": [
    "<h2 style=\"color:#003f5b\">What can we do with the JSON?</h2>"
   ]
  },
  {
   "cell_type": "markdown",
   "metadata": {},
   "source": [
    "Printing the entire json object is a bit messy so lets examine the json by using keys. The API documentation: http://www.eia.gov/opendata/commands.cfm provides detail about the json structure."
   ]
  },
  {
   "cell_type": "code",
   "execution_count": 6,
   "metadata": {
    "collapsed": false
   },
   "outputs": [
    {
     "name": "stdout",
     "output_type": "stream",
     "text": [
      "Here is a list of all the items avaialble to us from json:\n",
      "request:\n",
      "\tseries_id\n",
      "\tcommand\n",
      "series:\n",
      "\tupdated\n",
      "\tsource\n",
      "\tunits\n",
      "\tf\n",
      "\tend\n",
      "\tstart\n",
      "\tseries_id\n",
      "\tdata\n",
      "\tname\n",
      "\tcopyright\n",
      "\tunitsshort\n",
      "\tdescription\n"
     ]
    }
   ],
   "source": [
    "# create variables for the request and the series\n",
    "request = ng_stor_json['request']\n",
    "series = ng_stor_json['series']\n",
    "\n",
    "print('Here is a list of all the items avaialble to us from json:')\n",
    "\n",
    "# print each key in the requ\n",
    "print('request:')\n",
    "for key in request.keys():\n",
    "    print('\\t{}'.format(key))\n",
    "    \n",
    "# print each key in series - note that the level below series is a dictinary nested in a list - series[0]\n",
    "print('series:')\n",
    "for key in series[0].keys():\n",
    "    print('\\t{}'.format(key))"
   ]
  },
  {
   "cell_type": "markdown",
   "metadata": {
    "collapsed": false
   },
   "source": [
    "The data attribute that is nested under series is what we are after so lets extract it and convert to a pandas dataframe and create a datetime index to make it a proper timeseries."
   ]
  },
  {
   "cell_type": "markdown",
   "metadata": {
    "collapsed": true
   },
   "source": [
    "<h2 style=\"color:#003f5b\">Parse json to pandas datafrane</h2>"
   ]
  },
  {
   "cell_type": "code",
   "execution_count": 7,
   "metadata": {
    "collapsed": true
   },
   "outputs": [],
   "source": [
    "# we need to import pandas - ideally this import would happen at the start of the script\n",
    "# and datetime to convert a string to a timestamp\n",
    "import pandas as pd\n",
    "from datetime import datetime"
   ]
  },
  {
   "cell_type": "markdown",
   "metadata": {},
   "source": [
    "I think a function or class would work to parse the json into a dataframe. I'm going to use a class because I used a class to interact with the API so might as well keep the object oriented thing going...."
   ]
  },
  {
   "cell_type": "code",
   "execution_count": 8,
   "metadata": {
    "collapsed": true
   },
   "outputs": [],
   "source": [
    "class CreateDataFrame(object):\n",
    "    '''Creates the dataframe for Energy API call'''\n",
    "    \n",
    "    # (1)\n",
    "    def __init__(self, json):\n",
    "        \"\"\":param json: eia json\"\"\"\n",
    "        self.json = json\n",
    "        self.series = self.json['series']\n",
    "        self.data = self.series[0]['data']\n",
    "        self.df = self.create_dataframe()\n",
    "    \n",
    "    # (2)\n",
    "    def create_dataframe(self):\n",
    "        \"\"\"Function to create dataframe from json['series'] \"\"\"\n",
    "        values = [x[1] for x in self.data]\n",
    "        dates = self.get_dates()\n",
    "        return pd.DataFrame(values, index=dates, columns=['values'])\n",
    "    \n",
    "    # (3)\n",
    "    def get_dates(self):\n",
    "        \"\"\"Parses text dates to datetime index\"\"\"\n",
    "        freq = {'A': '%Y', 'M': '%Y%m', 'W': '%Y%m%d',\n",
    "                'D': '%Y%m%d', 'H': '%Y%m%d %H'}\n",
    "        date_list = []\n",
    "        for x in self.data:\n",
    "            # need to add this ugly bit to remove hourly time format from EIA\n",
    "            time = x[0].replace('T', ' ')\n",
    "            time = time.replace('Z', '')\n",
    "            time = datetime.strptime(time, freq[self.series[0]['f']])\n",
    "            date_list.append(time.strftime('%Y-%m-%d %H:%M:%S'))\n",
    "        return date_list"
   ]
  },
  {
   "cell_type": "markdown",
   "metadata": {},
   "source": [
    "(1) When the class is instantiated 4 attributes are created:\n",
    "    1. json: the json that was passed in from the EIA API\n",
    "    2. series: the series key of the json object\n",
    "    3. data: the data key that is embedded in series\n",
    "    4. df: a pandas dataframe\n",
    "    \n",
    "(2) A class method used to take the data key values from json and convert it to a pandas dataframe. The data key holds a list of lists that contains a date and value. This code extracts the value from the list and calls another method to extract the dates and convert to datetime. The dataframe is created by using the converted datetime to assign an index.\n",
    "\n",
    "(3) A class method used to convert a string representation of dates to a datetime object. I built this to handle the different frequencies that could potentially be passes in since EIA data can be annual, monthly, weekly, daily or hourly."
   ]
  },
  {
   "cell_type": "markdown",
   "metadata": {},
   "source": [
    "Lets create the dataframe to check if the the CreateDataFrame class is working as expected"
   ]
  },
  {
   "cell_type": "code",
   "execution_count": 9,
   "metadata": {
    "collapsed": false
   },
   "outputs": [
    {
     "name": "stdout",
     "output_type": "stream",
     "text": [
      "                     values\n",
      "2016-09-02 00:00:00    3437\n",
      "2016-08-26 00:00:00    3401\n",
      "2016-08-19 00:00:00    3350\n",
      "2016-08-12 00:00:00    3339\n",
      "2016-08-05 00:00:00    3317\n",
      "2016-07-29 00:00:00    3288\n",
      "2016-07-22 00:00:00    3294\n",
      "2016-07-15 00:00:00    3277\n",
      "2016-07-08 00:00:00    3243\n",
      "2016-07-01 00:00:00    3179\n",
      "2016-06-24 00:00:00    3140\n",
      "2016-06-17 00:00:00    3103\n",
      "2016-06-10 00:00:00    3041\n",
      "2016-06-03 00:00:00    2972\n",
      "2016-05-27 00:00:00    2907\n",
      "2016-05-20 00:00:00    2825\n",
      "2016-05-13 00:00:00    2754\n",
      "2016-05-06 00:00:00    2681\n",
      "2016-04-29 00:00:00    2625\n",
      "2016-04-22 00:00:00    2557\n"
     ]
    }
   ],
   "source": [
    "# here we create\n",
    "ng_stor_df = CreateDataFrame(ng_stor_json).df\n",
    "# print out the first 20 obs\n",
    "print(ng_stor_df.head(n=20))"
   ]
  },
  {
   "cell_type": "markdown",
   "metadata": {
    "collapsed": false
   },
   "source": [
    "There it is. We have our dataframe and can model away."
   ]
  }
 ],
 "metadata": {
  "kernelspec": {
   "display_name": "Python 3",
   "language": "python",
   "name": "python3"
  },
  "language_info": {
   "codemirror_mode": {
    "name": "ipython",
    "version": 3
   },
   "file_extension": ".py",
   "mimetype": "text/x-python",
   "name": "python",
   "nbconvert_exporter": "python",
   "pygments_lexer": "ipython3",
   "version": "3.5.1"
  }
 },
 "nbformat": 4,
 "nbformat_minor": 1
}
