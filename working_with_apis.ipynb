{
 "cells": [
  {
   "cell_type": "markdown",
   "metadata": {},
   "source": [
    "## My setup and workflow"
   ]
  },
  {
   "cell_type": "markdown",
   "metadata": {},
   "source": [
    "This is my first post so before I dive into the content I thought it would be a good idea to give a short background on my setup and workflow. I do most of my work in linux (Ubuntu 14.04) and run Python 3.5. Most of my code development is done via text editor (Sublime), command line and IPython. If I need to share or demo code then I use Jupyter but I don't use it much when I'm actually developing because it feels a bit clunky."
   ]
  },
  {
   "cell_type": "markdown",
   "metadata": {},
   "source": [
    "## Making a request"
   ]
  },
  {
   "cell_type": "markdown",
   "metadata": {},
   "source": [
    "First we need an API to make a call to. I'm going to use the EIA API because I follow energy markets and the API has pretty decent documentation. Before making out request we have to obtain an API key which is used to autheticate our request. We are also going to have to import some packages to help us make the request and parse out the information that is returned."
   ]
  },
  {
   "cell_type": "code",
   "execution_count": 3,
   "metadata": {
    "collapsed": true
   },
   "outputs": [],
   "source": [
    "import requests\n",
    "import json\n",
    "import pandas as pd"
   ]
  },
  {
   "cell_type": "markdown",
   "metadata": {},
   "source": [
    "The requests library gives us an easy way to send a HTTP/1.1 request the API. We'll use the json library to convert the text we receive from the API to a json object which we will then parse into a pandas dataframe.\n",
    "\n",
    "Let's start by defining a class for our API call. If you're like me and you come from more of a functional programming background then classes may seem a bit foreign. We could use functions to get the same end result but classes offer a more logical way to keep track of state and state attributes. For example in our API call we might want to access the API response, the json, the dataframe and all the parameters that we passed to make a request. In a class we can create attributes to easily get these attributes without have to call a bunch of linked functions."
   ]
  },
  {
   "cell_type": "code",
   "execution_count": 19,
   "metadata": {
    "collapsed": false
   },
   "outputs": [],
   "source": [
    "class GetEnergy(object):\n",
    "    '''\n",
    "    A class to call EIA API, capture response and parse to df\n",
    "    '''\n",
    "    \n",
    "    # setting as class variable because same url will be used for all calls\n",
    "    eia_url = 'http://api.eia.gov/series/'\n",
    "    \n",
    "    def __init__(self, api_key, series_id):\n",
    "        '''\n",
    "        :param api_key: an valid API key provided by EIA\n",
    "        :param series: a valid EIA series ID\n",
    "        '''\n",
    "        # setting as instance variables because these can change each call\n",
    "        self.api_key = api_key\n",
    "        self.series_id = series_id\n",
    "        self.response = self.get_response()\n",
    "        \n",
    "    def get_response(self):\n",
    "        '''\n",
    "         Calls the EIA API and returns response object\n",
    "        '''\n",
    "        # creating a tuple of tuples which we will pass into our api request\n",
    "        api_parms = (\n",
    "            ('api_key', self.api_key),\n",
    "            ('series', self.series_id),\n",
    "        )\n",
    "        # using the request library to call API and capture response\n",
    "        return requests.get(self.eia_url, params=api_parms)"
   ]
  },
  {
   "cell_type": "markdown",
   "metadata": {},
   "source": [
    "I added a bit of commentary to the code but to walk through at a high level we are capturing the api_key and series id passed into the GetEnergy class, packing these into a tuple of tuples which we then unload using the request package. The request package will turn this into a url which the API will translate and use to send a response.\n",
    "\n",
    "Let's try it out."
   ]
  },
  {
   "cell_type": "code",
   "execution_count": 11,
   "metadata": {
    "collapsed": false
   },
   "outputs": [],
   "source": [
    "# define out input veriables here because we will probably reuse\n",
    "# in practice you would want to keep the API key somewhere safe\n",
    "api_key = eia_api = '5F4109570C68FDE20F42C25F5152D879'\n",
    "series_id = 'EBA.SCL-ALL.D.H'\n",
    "scl_load = GetEnergy(api_key, series_id)"
   ]
  },
  {
   "cell_type": "markdown",
   "metadata": {},
   "source": [
    "We only defined the class to return us an API response so lets look at what we get back from the API before we do anything with it."
   ]
  },
  {
   "cell_type": "code",
   "execution_count": 15,
   "metadata": {
    "collapsed": false
   },
   "outputs": [
    {
     "data": {
      "text/plain": [
       "<Response [500]>"
      ]
     },
     "execution_count": 15,
     "metadata": {},
     "output_type": "execute_result"
    }
   ],
   "source": [
    "# print out the response\n",
    "scl_load.response"
   ]
  },
  {
   "cell_type": "markdown",
   "metadata": {},
   "source": [
    "You can lookup what different response codes mean but 200 is good - it means that our request was at least accepted by the API. Now lets take a look at the actual text that was sent to us by the API."
   ]
  },
  {
   "cell_type": "markdown",
   "metadata": {},
   "source": [
    "## Parsing the JSON"
   ]
  },
  {
   "cell_type": "code",
   "execution_count": 16,
   "metadata": {
    "collapsed": false
   },
   "outputs": [
    {
     "data": {
      "text/plain": [
       "''"
      ]
     },
     "execution_count": 16,
     "metadata": {},
     "output_type": "execute_result"
    }
   ],
   "source": [
    "scl_load.response.text"
   ]
  },
  {
   "cell_type": "markdown",
   "metadata": {},
   "source": [
    "Ok that looks like json that we are after so lets add a function to our GetEnergy class that will convert the text to a json object that we can work with."
   ]
  },
  {
   "cell_type": "code",
   "execution_count": 17,
   "metadata": {
    "collapsed": true
   },
   "outputs": [],
   "source": [
    "def get_json(self):\n",
    "        '''\n",
    "         Returns a json object from EIA resposne\n",
    "        '''\n",
    "        return json.loads(self.response.text)"
   ]
  },
  {
   "cell_type": "markdown",
   "metadata": {},
   "source": [
    "And we will need to call this in the __init__ so the full GetEnergy class now looks like"
   ]
  },
  {
   "cell_type": "code",
   "execution_count": null,
   "metadata": {
    "collapsed": true
   },
   "outputs": [],
   "source": [
    "class GetEnergy(object):\n",
    "    '''\n",
    "    A class to call EIA API, capture response and parse to df\n",
    "    '''\n",
    "    \n",
    "    # setting as class variable because same url will be used for all calls\n",
    "    eia_url = 'http://api.eia.gov/series/'\n",
    "    \n",
    "    def __init__(self, api_key, series_id):\n",
    "        '''\n",
    "        :param api_key: an valid API key provided by EIA\n",
    "        :param series: a valid EIA series ID\n",
    "        '''\n",
    "        # setting as instance variables because these can change each call\n",
    "        self.api_key = api_key\n",
    "        self.series_id = series_id\n",
    "        self.response = self.get_response()\n",
    "        self.json = self.get_json()\n",
    "        \n",
    "    def get_response(self):\n",
    "        '''\n",
    "         Calls the EIA API and returns response object\n",
    "        '''\n",
    "        # creating a tuple of tuples which we will pass into our api request\n",
    "        api_parms = (\n",
    "            ('api_key', self.api_key),\n",
    "            ('series', self.series_id),\n",
    "        )\n",
    "        # using the request library to call API and capture response\n",
    "        return requests.get(self.eia_url, params=api_parms)\n",
    "    \n",
    "    def get_json(self):\n",
    "        '''\n",
    "         Returns a json object from EIA resposne\n",
    "        '''\n",
    "        return json.loads(self.response.text)"
   ]
  }
 ],
 "metadata": {
  "kernelspec": {
   "display_name": "Python 3",
   "language": "python",
   "name": "python3"
  },
  "language_info": {
   "codemirror_mode": {
    "name": "ipython",
    "version": 3
   },
   "file_extension": ".py",
   "mimetype": "text/x-python",
   "name": "python",
   "nbconvert_exporter": "python",
   "pygments_lexer": "ipython3",
   "version": "3.5.1"
  }
 },
 "nbformat": 4,
 "nbformat_minor": 1
}
